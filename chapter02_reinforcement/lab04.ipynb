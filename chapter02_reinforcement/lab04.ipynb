{
 "cells": [
  {
   "cell_type": "markdown",
   "id": "7b44046e",
   "metadata": {},
   "source": [
    "### 점수 규칙\n",
    "* 각각의 이동은 -1점. 가능한 한 최소한의 행동으로 이동할 것\n",
    "* 승객을 태워다 주면 +20점\n",
    "* 엉뚱한 상황에서 pickup 및 dropoff 할 경우 -10점"
   ]
  },
  {
   "cell_type": "markdown",
   "id": "b63f21c6",
   "metadata": {},
   "source": [
    "### 행동\n",
    "* 0 : 남\n",
    "* 1 : 북\n",
    "* 2 : 동\n",
    "* 3 : 서\n",
    "* 4 : 승객 태우기\n",
    "* 5 : 승객 내려주기"
   ]
  },
  {
   "cell_type": "markdown",
   "id": "1b8e1e84",
   "metadata": {},
   "source": [
    "### 렌더링 정보\n",
    "* blue: 승객\n",
    "* magenta: 목적지\n",
    "* yellow: 빈 택시\n",
    "* green: 승객이 타고 있는 택시\n",
    "* 기타 문자: 장소"
   ]
  },
  {
   "cell_type": "markdown",
   "id": "789f759b",
   "metadata": {},
   "source": [
    "### 상태\n",
    "* 500개의 상태, 25개의 택시 위치\n",
    "* 택시 내부를 포함한 5개의 가능한 승객의 위치\n",
    "* 4개의 목적지 장소"
   ]
  },
  {
   "cell_type": "code",
   "execution_count": 1,
   "id": "36613676",
   "metadata": {},
   "outputs": [],
   "source": [
    "import gym\n",
    "import numpy as np\n",
    "import matplotlib.pyplot as plt\n",
    "from gym.envs.registration import register\n",
    "import random\n",
    "\n",
    "env = gym.make('Taxi-v3')"
   ]
  },
  {
   "cell_type": "code",
   "execution_count": 2,
   "id": "8f00fdca",
   "metadata": {},
   "outputs": [],
   "source": [
    "def rargmax(vector):     \n",
    "    m = np.max(vector)\n",
    "    indices = np.nonzero(vector == m)[0]\n",
    "    return random.choice(indices)"
   ]
  },
  {
   "cell_type": "code",
   "execution_count": 3,
   "id": "d5fda2c8",
   "metadata": {},
   "outputs": [],
   "source": [
    "# Q를 모두 0으로 초기화.  Q[500,6]\n",
    "Q = np.zeros([env.observation_space.n, env.action_space.n])"
   ]
  },
  {
   "cell_type": "code",
   "execution_count": 4,
   "id": "e99158af",
   "metadata": {},
   "outputs": [
    {
     "name": "stderr",
     "output_type": "stream",
     "text": [
      "C:\\Users\\admin\\AppData\\Roaming\\Python\\Python311\\site-packages\\gym\\utils\\passive_env_checker.py:233: DeprecationWarning: `np.bool8` is a deprecated alias for `np.bool_`.  (Deprecated NumPy 1.24)\n",
      "  if not isinstance(terminated, (bool, np.bool8)):\n"
     ]
    }
   ],
   "source": [
    "rList = []\n",
    "\n",
    "num_episodes = 1000\n",
    "for i in range(num_episodes):\n",
    "    state = env.reset()[0]\n",
    "    rAll = 0\n",
    "    done = False\n",
    "    tries = 0\n",
    "    while not done:\n",
    "        tries+=1\n",
    "        action = rargmax(Q[state,:])\n",
    "        new_state, reward, done, _, info = env.step(action)\n",
    "        \n",
    "        Q[state,action] = reward + np.max(Q[new_state, :])\n",
    "        rAll += reward\n",
    "        state = new_state\n",
    "    rList.append(rAll)"
   ]
  },
  {
   "cell_type": "code",
   "execution_count": 5,
   "id": "6f35367f",
   "metadata": {},
   "outputs": [
    {
     "name": "stdout",
     "output_type": "stream",
     "text": [
      "Success rate: -16.891\n",
      "Final Q-Table Values\n",
      "LEFT DOWN RIGHT UP PICKUP DROPOFF\n"
     ]
    },
    {
     "data": {
      "image/png": "[encoded data removed]",
      "text/plain": [
       "<Figure size 640x480 with 1 Axes>"
      ]
     },
     "metadata": {},
     "output_type": "display_data"
    }
   ],
   "source": [
    "print(\"Success rate: \" + str(sum(rList) / num_episodes))\n",
    "print(\"Final Q-Table Values\")\n",
    "print(\"LEFT DOWN RIGHT UP PICKUP DROPOFF\")\n",
    "\n",
    "plt.bar(range(len(rList)), rList, color=\"b\", alpha=0.4)\n",
    "plt.ylim(-200,50)\n",
    "plt.show()"
   ]
  },
  {
   "cell_type": "code",
   "execution_count": null,
   "id": "ba079a16",
   "metadata": {},
   "outputs": [],
   "source": []
  }
 ],
 "metadata": {
  "kernelspec": {
   "display_name": "Python 3 (ipykernel)",
   "language": "python",
   "name": "python3"
  },
  "language_info": {
   "codemirror_mode": {
    "name": "ipython",
    "version": 3
   },
   "file_extension": ".py",
   "mimetype": "text/x-python",
   "name": "python",
   "nbconvert_exporter": "python",
   "pygments_lexer": "ipython3",
   "version": "3.11.5"
  }
 },
 "nbformat": 4,
 "nbformat_minor": 5
}
