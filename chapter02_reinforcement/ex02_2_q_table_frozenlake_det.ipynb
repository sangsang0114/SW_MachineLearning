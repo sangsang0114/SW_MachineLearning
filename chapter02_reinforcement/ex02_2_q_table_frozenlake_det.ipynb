{
 "cells": [
  {
   "cell_type": "code",
   "execution_count": 1,
   "metadata": {},
   "outputs": [],
   "source": [
    "import gym\n",
    "import numpy as np\n",
    "import matplotlib.pyplot as plt\n",
    "from gym.envs.registration import register\n",
    "\n",
    "register(\n",
    "    id='FrozenLake-v3',\n",
    "    entry_point='gym.envs.toy_text:FrozenLakeEnv',\n",
    "    kwargs={'map_name' : '4x4', 'is_slippery': False}\n",
    ")\n",
    "env = gym.make('FrozenLake-v3')"
   ]
  },
  {
   "cell_type": "code",
   "execution_count": 2,
   "metadata": {},
   "outputs": [],
   "source": [
    "# Q를 모두 0으로 초기화.  Q[16,4]\n",
    "Q = np.zeros([env.observation_space.n, env.action_space.n]) \n",
    "\n",
    "#  learning parameters\n",
    "num_episodes = 2000\n",
    "\n",
    "# create lists to contain total rewards and steps per episode\n",
    "rList = []"
   ]
  },
  {
   "cell_type": "code",
   "execution_count": 3,
   "metadata": {},
   "outputs": [
    {
     "name": "stderr",
     "output_type": "stream",
     "text": [
      "C:\\Users\\admin\\AppData\\Roaming\\Python\\Python311\\site-packages\\gym\\utils\\passive_env_checker.py:233: DeprecationWarning: `np.bool8` is a deprecated alias for `np.bool_`.  (Deprecated NumPy 1.24)\n",
      "  if not isinstance(terminated, (bool, np.bool8)):\n"
     ]
    },
    {
     "name": "stdout",
     "output_type": "stream",
     "text": [
      "Success rate: 0.9535\n",
      "Final Q-Table Values\n",
      "LEFT DOWN RIGHT UP\n",
      "[[0. 0. 1. 0.]\n",
      " [0. 0. 1. 0.]\n",
      " [0. 1. 0. 0.]\n",
      " [0. 0. 0. 0.]\n",
      " [0. 0. 0. 0.]\n",
      " [0. 0. 0. 0.]\n",
      " [0. 1. 0. 0.]\n",
      " [0. 0. 0. 0.]\n",
      " [0. 0. 0. 0.]\n",
      " [0. 0. 0. 0.]\n",
      " [0. 1. 0. 0.]\n",
      " [0. 0. 0. 0.]\n",
      " [0. 0. 0. 0.]\n",
      " [0. 0. 1. 0.]\n",
      " [0. 0. 1. 0.]\n",
      " [0. 0. 0. 0.]]\n"
     ]
    },
    {
     "data": {
      "image/png": "[encoded data removed]",
      "text/plain": [
       "<Figure size 640x480 with 1 Axes>"
      ]
     },
     "metadata": {},
     "output_type": "display_data"
    }
   ],
   "source": [
    "for i in range(num_episodes): # 여러번 반복 학습\n",
    "    state = env.reset()[0]   # 환경 reset 후, 첫번째 상태 얻음 \n",
    "    rAll = 0\n",
    "    done = False\n",
    "\n",
    "    # The Q-Table learning algorithm\n",
    "    while not done: \n",
    "        #현재 state의 Q중 최대 reward를 얻을 수 있는 action을 구함. \n",
    "        #단, 알려진 길로만 가지 않기 위해서 random 값 add. \n",
    "        # 학습 후반 부로 갈 수로 random 값의 영향을 적게 하기위해   random/(i+1)\n",
    "        action = np.argmax(Q[state, :]+ np.random.randn(1, env.action_space.n) / (i+1))\n",
    "\n",
    "         # 환경에서 action 후, new_state와 reward를 얻음 \n",
    "        new_state, reward, done, _, info = env.step(action)\n",
    "\n",
    "        # Update Q-Table with new knowledge using decay rate\n",
    "        Q[state, action] = reward +  np.max(Q[new_state, :])\n",
    "\n",
    "        rAll += reward \n",
    "        state = new_state\n",
    "    rList.append(rAll)\n",
    "\n",
    "print(\"Success rate: \" + str(sum(rList) / num_episodes))\n",
    "print(\"Final Q-Table Values\")\n",
    "print(\"LEFT DOWN RIGHT UP\")\n",
    "print(Q)\n",
    "plt.bar(range(len(rList)), rList, color='b', alpha=0.4)\n",
    "plt.show()"
   ]
  },
  {
   "cell_type": "code",
   "execution_count": null,
   "metadata": {},
   "outputs": [],
   "source": []
  }
 ],
 "metadata": {
  "kernelspec": {
   "display_name": "Python 3 (ipykernel)",
   "language": "python",
   "name": "python3"
  },
  "language_info": {
   "codemirror_mode": {
    "name": "ipython",
    "version": 3
   },
   "file_extension": ".py",
   "mimetype": "text/x-python",
   "name": "python",
   "nbconvert_exporter": "python",
   "pygments_lexer": "ipython3",
   "version": "3.11.5"
  }
 },
 "nbformat": 4,
 "nbformat_minor": 2
}
