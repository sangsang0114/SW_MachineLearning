{
 "cells": [
  {
   "cell_type": "code",
   "execution_count": 1,
   "metadata": {
    "id": "gbd2W4fSyT6B",
    "outputId": "b76eebd8-3e23-4ee8-f5c6-39dc6715650a"
   },
   "outputs": [
    {
     "name": "stdout",
     "output_type": "stream",
     "text": [
      "[0 1]\n"
     ]
    }
   ],
   "source": [
    "from sklearn import svm\n",
    "\n",
    "clf = svm.SVC()\n",
    "clf.fit([\n",
    "    [0,0],     # 숫자이거나, 숫자로 형변환 가능해야 함.\n",
    "    [0,1],\n",
    "    [1,0],\n",
    "    [1,1]\n",
    "],[0,1,1,0])\n",
    "\n",
    "results = clf.predict([\n",
    "    [0,0],\n",
    "    [1,0]\n",
    "])\n",
    "\n",
    "print(results)"
   ]
  }
 ],
 "metadata": {
  "colab": {
   "provenance": []
  },
  "kernelspec": {
   "display_name": "Python 3 (ipykernel)",
   "language": "python",
   "name": "python3"
  },
  "language_info": {
   "codemirror_mode": {
    "name": "ipython",
    "version": 3
   },
   "file_extension": ".py",
   "mimetype": "text/x-python",
   "name": "python",
   "nbconvert_exporter": "python",
   "pygments_lexer": "ipython3",
   "version": "3.11.5"
  }
 },
 "nbformat": 4,
 "nbformat_minor": 1
}
