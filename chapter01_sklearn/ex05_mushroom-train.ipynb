{
 "cells": [
  {
   "cell_type": "code",
   "execution_count": 1,
   "metadata": {
    "id": "47bENi1Hx5HV"
   },
   "outputs": [],
   "source": [
    "import pandas as pd\n",
    "from sklearn.ensemble import RandomForestClassifier\n",
    "from sklearn import metrics\n",
    "from sklearn.model_selection import train_test_split\n",
    "\n",
    "\n",
    "# 데이터 읽어 들이기\n",
    "mr = pd.read_csv(\"mushroom.csv\", header=None) #첫 번째 행부터 데이터임을 의미\n",
    "# 데이터 내부의 기호를 숫자로 변환 )\n",
    "label = []\n",
    "data = []\n",
    "attr_list = []"
   ]
  },
  {
   "cell_type": "code",
   "execution_count": 2,
   "metadata": {
    "id": "IA2D0CUBx5HW"
   },
   "outputs": [],
   "source": [
    "for row_index, row in mr.iterrows():\n",
    "    label.append(row.iloc[0])\n",
    "    row_data = []\n",
    "    for v in row.iloc[1:]:\n",
    "        row_data.append(ord(v))\n",
    "    data.append(row_data)\n",
    "\n",
    "# 학습 전용과 테스트 전용 데이터로 나누기\n",
    "data_train, data_test, label_train, label_test = train_test_split(data, label)\n",
    "\n",
    "# 데이터 학습시키기\n",
    "clf = RandomForestClassifier()\n",
    "clf.fit(data_train, label_train)\n",
    "\n",
    "# 데이터 예측하기\n",
    "predict = clf.predict(data_test)"
   ]
  },
  {
   "cell_type": "code",
   "execution_count": 3,
   "metadata": {
    "id": "RBggRhhJx5HW"
   },
   "outputs": [
    {
     "name": "stdout",
     "output_type": "stream",
     "text": [
      "정답률 = 1.0\n",
      "리포트 =\n",
      "               precision    recall  f1-score   support\n",
      "\n",
      "           e       1.00      1.00      1.00      1028\n",
      "           p       1.00      1.00      1.00      1003\n",
      "\n",
      "    accuracy                           1.00      2031\n",
      "   macro avg       1.00      1.00      1.00      2031\n",
      "weighted avg       1.00      1.00      1.00      2031\n",
      "\n"
     ]
    }
   ],
   "source": [
    "# 결과 테스트하기\n",
    "ac_score = metrics.accuracy_score(label_test, predict)\n",
    "cl_report = metrics.classification_report(label_test, predict)\n",
    "print(\"정답률 =\", ac_score)\n",
    "print(\"리포트 =\\n\", cl_report)"
   ]
  }
 ],
 "metadata": {
  "colab": {
   "provenance": []
  },
  "kernelspec": {
   "display_name": "Python 3 (ipykernel)",
   "language": "python",
   "name": "python3"
  },
  "language_info": {
   "codemirror_mode": {
    "name": "ipython",
    "version": 3
   },
   "file_extension": ".py",
   "mimetype": "text/x-python",
   "name": "python",
   "nbconvert_exporter": "python",
   "pygments_lexer": "ipython3",
   "version": "3.11.5"
  }
 },
 "nbformat": 4,
 "nbformat_minor": 1
}
