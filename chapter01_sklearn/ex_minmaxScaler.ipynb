{
 "cells": [
  {
   "cell_type": "code",
   "execution_count": 1,
   "id": "41b1f27b",
   "metadata": {},
   "outputs": [
    {
     "name": "stdout",
     "output_type": "stream",
     "text": [
      "[[0.49748744]\n",
      " [0.        ]\n",
      " [1.        ]\n",
      " [0.        ]]\n"
     ]
    }
   ],
   "source": [
    "from sklearn import preprocessing\n",
    "scaler = preprocessing.MinMaxScaler()\n",
    "\n",
    "after_Nomalization = scaler.fit_transform([[100],[1],[200],[1]])\n",
    "print(after_Nomalization)"
   ]
  },
  {
   "cell_type": "code",
   "execution_count": 2,
   "id": "5c195640",
   "metadata": {},
   "outputs": [
    {
     "name": "stdout",
     "output_type": "stream",
     "text": [
      "[[100.]\n",
      " [  1.]\n",
      " [200.]\n",
      " [  1.]]\n"
     ]
    }
   ],
   "source": [
    "reverseData = scaler.inverse_transform(after_Nomalization)\n",
    "print(reverseData)"
   ]
  },
  {
   "cell_type": "code",
   "execution_count": null,
   "id": "28fb8fe9",
   "metadata": {},
   "outputs": [],
   "source": []
  }
 ],
 "metadata": {
  "kernelspec": {
   "display_name": "Python 3 (ipykernel)",
   "language": "python",
   "name": "python3"
  },
  "language_info": {
   "codemirror_mode": {
    "name": "ipython",
    "version": 3
   },
   "file_extension": ".py",
   "mimetype": "text/x-python",
   "name": "python",
   "nbconvert_exporter": "python",
   "pygments_lexer": "ipython3",
   "version": "3.11.5"
  }
 },
 "nbformat": 4,
 "nbformat_minor": 5
}
