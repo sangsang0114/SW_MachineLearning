{
 "cells": [
  {
   "cell_type": "code",
   "execution_count": 1,
   "metadata": {
    "id": "QgubPWljyCwp"
   },
   "outputs": [],
   "source": [
    "from sklearn.linear_model import LinearRegression\n",
    "\n",
    "x = [[10],[5],[9],[7]]       #공부시간 10시간   5시간, 9시간, 7시간\n",
    "y = [[100],[50],[90],[77]]   #시험점수 100점    50점,  90점   77점\n",
    "\n",
    "model = LinearRegression()\n",
    "\n",
    "\n",
    "# model = LinearRegression(fit_intercept=True)\n",
    "#fit_intercept 인수는 모형에 상수항이 있는가 없는가를 결정하는 인수이다. 디폴트 값이 True이고\n",
    "# 만약 상수항이 없으면 fit_intercept=False로 설정한다.\n"
   ]
  },
  {
   "cell_type": "markdown",
   "metadata": {
    "id": "gnZkgb1oyIb8"
   },
   "source": []
  },
  {
   "cell_type": "code",
   "execution_count": 2,
   "metadata": {
    "id": "eRhv5ByHyCwp",
    "outputId": "551c061d-a2c4-41a1-ef71-05c70ff4960d"
   },
   "outputs": [
    {
     "name": "stdout",
     "output_type": "stream",
     "text": [
      "[[72.01694915]]\n"
     ]
    }
   ],
   "source": [
    "\n",
    "model = model.fit(x, y)\n",
    "result =model.predict([[7]])\n",
    "print( result )\n",
    "\n",
    "##########################################\n",
    "# y_pred =model.predict(x)\n",
    "# print( model.coef_ )  #추정한 가중치 값  : W\n",
    "# print( model.intercept_ )  #추정된 상수항 : b\n",
    "# print ( model.score( x, y , ) )\n"
   ]
  }
 ],
 "metadata": {
  "colab": {
   "provenance": []
  },
  "kernelspec": {
   "display_name": "Python 3 (ipykernel)",
   "language": "python",
   "name": "python3"
  },
  "language_info": {
   "codemirror_mode": {
    "name": "ipython",
    "version": 3
   },
   "file_extension": ".py",
   "mimetype": "text/x-python",
   "name": "python",
   "nbconvert_exporter": "python",
   "pygments_lexer": "ipython3",
   "version": "3.11.5"
  }
 },
 "nbformat": 4,
 "nbformat_minor": 1
}
