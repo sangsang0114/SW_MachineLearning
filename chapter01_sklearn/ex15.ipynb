{
 "cells": [
  {
   "cell_type": "code",
   "execution_count": 1,
   "id": "9f777e42",
   "metadata": {
    "id": "9f777e42"
   },
   "outputs": [
    {
     "name": "stderr",
     "output_type": "stream",
     "text": [
      "C:\\ProgramData\\anaconda3\\Lib\\site-packages\\sklearn\\cluster\\_kmeans.py:1412: FutureWarning: The default value of `n_init` will change from 10 to 'auto' in 1.4. Set the value of `n_init` explicitly to suppress the warning\n",
      "  super()._check_params_vs_input(X, default_n_init=10)\n",
      "C:\\ProgramData\\anaconda3\\Lib\\site-packages\\sklearn\\cluster\\_kmeans.py:1436: UserWarning: KMeans is known to have a memory leak on Windows with MKL, when there are less chunks than available threads. You can avoid it by setting the environment variable OMP_NUM_THREADS=1.\n",
      "  warnings.warn(\n"
     ]
    },
    {
     "name": "stdout",
     "output_type": "stream",
     "text": [
      "학생번호: 0 : 0\n",
      "학생번호: 1 : 0\n",
      "학생번호: 2 : 1\n",
      "학생번호: 3 : 0\n",
      "학생번호: 4 : 0\n",
      "학생번호: 5 : 1\n",
      "학생번호: 6 : 0\n",
      "학생번호: 7 : 0\n",
      "학생번호: 8 : 1\n",
      "학생번호: 9 : 2\n",
      "학생번호: 10 : 0\n",
      "학생번호: 11 : 1\n",
      "학생번호: 12 : 2\n",
      "학생번호: 13 : 0\n",
      "학생번호: 14 : 1\n",
      "학생번호: 15 : 2\n",
      "학생번호: 16 : 0\n",
      "학생번호: 17 : 1\n",
      "답:  [0]\n"
     ]
    },
    {
     "name": "stderr",
     "output_type": "stream",
     "text": [
      "C:\\ProgramData\\anaconda3\\Lib\\site-packages\\sklearn\\base.py:464: UserWarning: X does not have valid feature names, but KMeans was fitted with feature names\n",
      "  warnings.warn(\n"
     ]
    }
   ],
   "source": [
    "import pandas as pd\n",
    "from sklearn.cluster import KMeans\n",
    "\n",
    "data = pd.read_csv(\"ex15_academy.csv\")\n",
    "#print( data.iloc[:,1:] )\n",
    "\n",
    "# 군집 모델을 만듭니다\n",
    "kmeans = KMeans(n_clusters=3)\n",
    "kmeans.fit(data.iloc[:,1:])\n",
    "\n",
    "for no, cla in  enumerate(kmeans.labels_):\n",
    "    print(\"학생번호: {} : {}\".format(no, cla))\n",
    "\n",
    "# 국어점수 100, 영어점수 80,\n",
    "# 수학점수 70,  과학점수 70, 학업성취도 70\n",
    "# 인 새로운 학생이 입학하였습니다.\n",
    "# 이 학생은 몇번 클러스터에 포함되어야 합니까?\n",
    "data = [[100,80,70,70,70]]\n",
    "print('답: ' , kmeans.predict(data))"
   ]
  },
  {
   "cell_type": "code",
   "execution_count": null,
   "id": "a6ee7d64",
   "metadata": {},
   "outputs": [],
   "source": []
  }
 ],
 "metadata": {
  "colab": {
   "provenance": []
  },
  "kernelspec": {
   "display_name": "Python 3 (ipykernel)",
   "language": "python",
   "name": "python3"
  },
  "language_info": {
   "codemirror_mode": {
    "name": "ipython",
    "version": 3
   },
   "file_extension": ".py",
   "mimetype": "text/x-python",
   "name": "python",
   "nbconvert_exporter": "python",
   "pygments_lexer": "ipython3",
   "version": "3.11.5"
  }
 },
 "nbformat": 4,
 "nbformat_minor": 5
}
