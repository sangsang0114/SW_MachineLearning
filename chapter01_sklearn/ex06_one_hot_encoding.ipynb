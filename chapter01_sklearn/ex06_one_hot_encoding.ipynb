{
 "cells": [
  {
   "cell_type": "code",
   "execution_count": 1,
   "metadata": {
    "id": "IaujcJiCx_Q8",
    "outputId": "08c0c281-41a8-4544-f402-4b39b7efaf62"
   },
   "outputs": [
    {
     "name": "stdout",
     "output_type": "stream",
     "text": [
      "[[0. 0. 1.]\n",
      " [0. 0. 1.]\n",
      " [0. 0. 1.]\n",
      " [1. 0. 0.]\n",
      " [0. 1. 0.]]\n"
     ]
    }
   ],
   "source": [
    "from sklearn.preprocessing import OneHotEncoder\n",
    "\n",
    "def main():\n",
    "    enc = OneHotEncoder(categories='auto')\n",
    "    sourcedata = [\n",
    "        ['Red'],\n",
    "        ['Blue'],\n",
    "        ['Green']\n",
    "    ]\n",
    "    \n",
    "    enc.fit(sourcedata)\n",
    "    \n",
    "    data = [\n",
    "        ['Red'],\n",
    "        ['Red'],\n",
    "        ['Red'],\n",
    "        ['Blue'],\n",
    "        ['Green']\n",
    "    ]\n",
    "    \n",
    "    print(enc.transform(data).toarray())\n",
    "\n",
    "if __name__ == '__main__':\n",
    "    main()"
   ]
  },
  {
   "cell_type": "code",
   "execution_count": null,
   "metadata": {
    "id": "QLmHUYYKx_Q-"
   },
   "outputs": [],
   "source": []
  }
 ],
 "metadata": {
  "colab": {
   "provenance": []
  },
  "kernelspec": {
   "display_name": "Python 3 (ipykernel)",
   "language": "python",
   "name": "python3"
  },
  "language_info": {
   "codemirror_mode": {
    "name": "ipython",
    "version": 3
   },
   "file_extension": ".py",
   "mimetype": "text/x-python",
   "name": "python",
   "nbconvert_exporter": "python",
   "pygments_lexer": "ipython3",
   "version": "3.11.5"
  }
 },
 "nbformat": 4,
 "nbformat_minor": 1
}
