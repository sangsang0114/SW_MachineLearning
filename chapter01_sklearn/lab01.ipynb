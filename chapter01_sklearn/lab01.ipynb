{
 "cells": [
  {
   "cell_type": "markdown",
   "id": "94ccee35",
   "metadata": {},
   "source": [
    "비만판정 BMI = 몸무게kg / 키m * 키m \n",
    "BMI 계산 식을 모르는 컴퓨터에게 비만을 학습시킬 수 있을까?\n",
    "  \n",
    "1) 주어진 bmi.csv 를 이용하여 학습하고, 정확도를 구하세요. \n",
    "\n",
    "2)  키 : 160, \t몸무게 :64 \n",
    "키 :180 \t몸무게 :64 \n",
    "키 :170 \t몸무게 64 인 사람은 \n",
    "\n",
    "thin/normal/fat 중에 어느 등급인가요? \n",
    "\n",
    "\n",
    "\n",
    "** 정확도를 높이는 방법 중 하나는 \n",
    "숫자 데이터를 0에서 1사이로 변경시는 방법이 있습니다. 이를 정규화라고 부릅니다. \n",
    "\n",
    "\n",
    "예)     최대 몸무게를 100이라고 가정하고,     \t각각의 몸무게/100 \n",
    "        최대 키를 200 이라고 가정하고,       \t각각의 키/200"
   ]
  },
  {
   "cell_type": "code",
   "execution_count": 33,
   "id": "51c058bb",
   "metadata": {},
   "outputs": [],
   "source": [
    "import pandas as pd\n",
    "from sklearn.model_selection import train_test_split\n",
    "from sklearn.ensemble import RandomForestClassifier\n",
    "from sklearn import  svm, metrics\n",
    "bmi = pd.read_csv('bmi.csv')"
   ]
  },
  {
   "cell_type": "code",
   "execution_count": 46,
   "id": "836630e9",
   "metadata": {},
   "outputs": [
    {
     "name": "stdout",
     "output_type": "stream",
     "text": [
      "       height  weight\n",
      "0       0.625    0.56\n",
      "1       0.790    0.54\n",
      "2       0.885    0.75\n",
      "3       0.875    0.71\n",
      "4       0.635    0.79\n",
      "...       ...     ...\n",
      "19995   0.980    0.71\n",
      "19996   0.945    0.70\n",
      "19997   0.640    0.50\n",
      "19998   0.790    0.74\n",
      "19999   0.880    0.38\n",
      "\n",
      "[20000 rows x 2 columns]\n"
     ]
    },
    {
     "name": "stderr",
     "output_type": "stream",
     "text": [
      "C:\\Users\\admin\\AppData\\Local\\Temp\\ipykernel_12544\\431160959.py:2: SettingWithCopyWarning: \n",
      "A value is trying to be set on a copy of a slice from a DataFrame.\n",
      "Try using .loc[row_indexer,col_indexer] = value instead\n",
      "\n",
      "See the caveats in the documentation: https://pandas.pydata.org/pandas-docs/stable/user_guide/indexing.html#returning-a-view-versus-a-copy\n",
      "  data['height'] = data['height'].values / 200\n",
      "C:\\Users\\admin\\AppData\\Local\\Temp\\ipykernel_12544\\431160959.py:3: SettingWithCopyWarning: \n",
      "A value is trying to be set on a copy of a slice from a DataFrame.\n",
      "Try using .loc[row_indexer,col_indexer] = value instead\n",
      "\n",
      "See the caveats in the documentation: https://pandas.pydata.org/pandas-docs/stable/user_guide/indexing.html#returning-a-view-versus-a-copy\n",
      "  data['weight'] = data['weight'].values / 100\n"
     ]
    }
   ],
   "source": [
    "data = bmi[['height', 'weight']]\n",
    "data['height'] = data['height'].values / 200\n",
    "data['weight'] = data['weight'].values / 100\n",
    "labels = bmi['label']\n",
    "print(data)"
   ]
  },
  {
   "cell_type": "code",
   "execution_count": 47,
   "id": "0382abcd",
   "metadata": {},
   "outputs": [],
   "source": [
    "def predict_custom(h, w):\n",
    "    h /= 200\n",
    "    w /= 100\n",
    "    return clf.predict([[h,w]])"
   ]
  },
  {
   "cell_type": "code",
   "execution_count": 48,
   "id": "2270f47f",
   "metadata": {},
   "outputs": [
    {
     "name": "stdout",
     "output_type": "stream",
     "text": [
      "['normal']\n",
      "['normal']\n",
      "['normal']\n"
     ]
    },
    {
     "name": "stderr",
     "output_type": "stream",
     "text": [
      "C:\\ProgramData\\anaconda3\\Lib\\site-packages\\sklearn\\base.py:464: UserWarning: X does not have valid feature names, but SVC was fitted with feature names\n",
      "  warnings.warn(\n",
      "C:\\ProgramData\\anaconda3\\Lib\\site-packages\\sklearn\\base.py:464: UserWarning: X does not have valid feature names, but SVC was fitted with feature names\n",
      "  warnings.warn(\n",
      "C:\\ProgramData\\anaconda3\\Lib\\site-packages\\sklearn\\base.py:464: UserWarning: X does not have valid feature names, but SVC was fitted with feature names\n",
      "  warnings.warn(\n"
     ]
    }
   ],
   "source": [
    "# data_train, data_test, label_train, label_test = \\\n",
    "#     train_test_split(data, label)\n",
    "\n",
    "clf = svm.SVC()\n",
    "clf.fit(data,labels)\n",
    "\n",
    "print(predict_custom(180,64))\n",
    "print(predict_custom(170,64))\n",
    "print(predict_custom(160,64))"
   ]
  },
  {
   "cell_type": "raw",
   "id": "46bfeaa8",
   "metadata": {},
   "source": []
  },
  {
   "cell_type": "code",
   "execution_count": null,
   "id": "c119f9e0",
   "metadata": {},
   "outputs": [],
   "source": []
  }
 ],
 "metadata": {
  "kernelspec": {
   "display_name": "Python 3 (ipykernel)",
   "language": "python",
   "name": "python3"
  },
  "language_info": {
   "codemirror_mode": {
    "name": "ipython",
    "version": 3
   },
   "file_extension": ".py",
   "mimetype": "text/x-python",
   "name": "python",
   "nbconvert_exporter": "python",
   "pygments_lexer": "ipython3",
   "version": "3.11.5"
  }
 },
 "nbformat": 4,
 "nbformat_minor": 5
}
