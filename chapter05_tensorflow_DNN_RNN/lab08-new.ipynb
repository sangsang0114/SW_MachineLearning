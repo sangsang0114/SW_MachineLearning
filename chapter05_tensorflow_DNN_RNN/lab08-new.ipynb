{
 "cells": [
  {
   "cell_type": "markdown",
   "id": "0650e111",
   "metadata": {},
   "source": [
    "문제08_시계열데이터.txt\n",
    "\n",
    "애플의 시계열 주가 데이터를 학습하고 예측하는 문제입니다. \n",
    "\n",
    "apple_stock.csv  파일에   종가(close) 를  5일단위로 학습하고  \n",
    "\n",
    "4일치 애플 주식의 종가(close) 데이터가 입력되면 \n",
    "그 다음날 애플 주식의 종가(close)를 예측하는 프로그램을 작성하세요. \n",
    "\n",
    "sequence to vector"
   ]
  },
  {
   "cell_type": "code",
   "execution_count": 1,
   "id": "6240db36",
   "metadata": {},
   "outputs": [],
   "source": [
    "import pandas as pd\n",
    "import numpy as np\n",
    "import matplotlib.pyplot as plt\n",
    "apple = pd.read_csv('apple_stock.csv', index_col='Date')\n",
    "apple.index = pd.to_datetime(apple.index)"
   ]
  },
  {
   "cell_type": "code",
   "execution_count": 2,
   "id": "eb444544",
   "metadata": {},
   "outputs": [],
   "source": [
    "a = apple['Close']"
   ]
  },
  {
   "cell_type": "code",
   "execution_count": 3,
   "id": "0c88b685",
   "metadata": {},
   "outputs": [],
   "source": [
    "a = np.array(a)\n",
    "a = a.reshape(-1,1)"
   ]
  },
  {
   "cell_type": "code",
   "execution_count": 4,
   "id": "05722c40",
   "metadata": {},
   "outputs": [],
   "source": [
    "from sklearn.preprocessing import MinMaxScaler\n",
    "scaler = MinMaxScaler()\n",
    "aa = scaler.fit_transform(a)"
   ]
  },
  {
   "cell_type": "code",
   "execution_count": 5,
   "id": "c3ec9d0f",
   "metadata": {},
   "outputs": [],
   "source": [
    "aa = aa.reshape(-1,5,1)"
   ]
  },
  {
   "cell_type": "code",
   "execution_count": 6,
   "id": "f8be7e97",
   "metadata": {},
   "outputs": [
    {
     "data": {
      "text/plain": [
       "(453, 5, 1)"
      ]
     },
     "execution_count": 6,
     "metadata": {},
     "output_type": "execute_result"
    }
   ],
   "source": [
    "aa.shape"
   ]
  },
  {
   "cell_type": "code",
   "execution_count": 7,
   "id": "3bef4d9e",
   "metadata": {},
   "outputs": [],
   "source": [
    "X_train = aa[0:453, 0:4, 0]\n",
    "X_train = X_train.reshape(-1,4,1)"
   ]
  },
  {
   "cell_type": "code",
   "execution_count": 8,
   "id": "c2070c01",
   "metadata": {},
   "outputs": [],
   "source": [
    "Y_train = aa[0:453, 4, 0]\n",
    "Y_train = Y_train.reshape(-1,1)"
   ]
  },
  {
   "cell_type": "code",
   "execution_count": 9,
   "id": "adc4792e",
   "metadata": {},
   "outputs": [
    {
     "name": "stdout",
     "output_type": "stream",
     "text": [
      "(453, 4, 1)\n",
      "(453, 1)\n"
     ]
    }
   ],
   "source": [
    "print(X_train.shape)\n",
    "print(Y_train.shape)"
   ]
  },
  {
   "cell_type": "code",
   "execution_count": 10,
   "id": "b96fc7d0",
   "metadata": {},
   "outputs": [
    {
     "name": "stdout",
     "output_type": "stream",
     "text": [
      "WARNING:tensorflow:From C:\\Users\\admin\\AppData\\Roaming\\Python\\Python311\\site-packages\\keras\\src\\losses.py:2976: The name tf.losses.sparse_softmax_cross_entropy is deprecated. Please use tf.compat.v1.losses.sparse_softmax_cross_entropy instead.\n",
      "\n"
     ]
    }
   ],
   "source": [
    "from keras.models import Sequential\n",
    "from keras.layers import SimpleRNN, Dense\n",
    "from keras.layers import TimeDistributed\n",
    "\n",
    "def make_model():\n",
    "    model = Sequential()\n",
    "    model.add(SimpleRNN(10, input_shape=(4,1)))\n",
    "    model.add(Dense(1))\n",
    "    model.compile(loss='mse', optimizer='sgd')\n",
    "    return model"
   ]
  },
  {
   "cell_type": "code",
   "execution_count": 16,
   "id": "dedc72d2",
   "metadata": {},
   "outputs": [],
   "source": [
    "model = make_model()\n",
    "history = model.fit(X_train, Y_train, epochs=300, validation_split=0.2, verbose=0)"
   ]
  },
  {
   "cell_type": "code",
   "execution_count": 17,
   "id": "eb08d8b6",
   "metadata": {},
   "outputs": [
    {
     "data": {
      "image/png": "[encoded data removed]",
      "text/plain": [
       "<Figure size 640x480 with 1 Axes>"
      ]
     },
     "metadata": {},
     "output_type": "display_data"
    }
   ],
   "source": [
    "plt.plot(history.history['loss'])\n",
    "plt.title('loss')\n",
    "plt.show()"
   ]
  },
  {
   "cell_type": "code",
   "execution_count": 18,
   "id": "1be7396c",
   "metadata": {},
   "outputs": [
    {
     "name": "stdout",
     "output_type": "stream",
     "text": [
      "1/1 [==============================] - 0s 160ms/step\n",
      "[[-0.01397871]]\n",
      "0.0023805519430332434\n"
     ]
    }
   ],
   "source": [
    "y_predict = model.predict(aa[4, 0:4,0].reshape(-1,4,1))\n",
    "print(y_predict)\n",
    "print(aa[4,4,0])"
   ]
  },
  {
   "cell_type": "code",
   "execution_count": 19,
   "id": "12d802a7",
   "metadata": {},
   "outputs": [
    {
     "name": "stdout",
     "output_type": "stream",
     "text": [
      "1/1 [==============================] - 0s 21ms/step\n",
      "[[0.00073275]]\n",
      "0.012133141121711849\n"
     ]
    }
   ],
   "source": [
    "y_predict = model.predict(aa[1, 0:4,0].reshape(-1,4,1))\n",
    "print(y_predict)\n",
    "print(aa[1,4,0])"
   ]
  },
  {
   "cell_type": "code",
   "execution_count": 20,
   "id": "d6a0bff7",
   "metadata": {},
   "outputs": [
    {
     "name": "stdout",
     "output_type": "stream",
     "text": [
      "15/15 [==============================] - 0s 1ms/step\n"
     ]
    },
    {
     "data": {
      "image/png": "[encoded data removed]",
      "text/plain": [
       "<Figure size 640x480 with 1 Axes>"
      ]
     },
     "metadata": {},
     "output_type": "display_data"
    }
   ],
   "source": [
    "plt.plot(Y_train, 'ro-', label=\"target\")\n",
    "plt.plot(model.predict(X_train[:,:,:]), 'bs-', label=\"output\")\n",
    "plt.legend()\n",
    "plt.title(\"After training\")\n",
    "plt.show()"
   ]
  },
  {
   "cell_type": "code",
   "execution_count": null,
   "id": "225fb1d3",
   "metadata": {},
   "outputs": [],
   "source": []
  }
 ],
 "metadata": {
  "kernelspec": {
   "display_name": "Python 3 (ipykernel)",
   "language": "python",
   "name": "python3"
  },
  "language_info": {
   "codemirror_mode": {
    "name": "ipython",
    "version": 3
   },
   "file_extension": ".py",
   "mimetype": "text/x-python",
   "name": "python",
   "nbconvert_exporter": "python",
   "pygments_lexer": "ipython3",
   "version": "3.11.5"
  }
 },
 "nbformat": 4,
 "nbformat_minor": 5
}
