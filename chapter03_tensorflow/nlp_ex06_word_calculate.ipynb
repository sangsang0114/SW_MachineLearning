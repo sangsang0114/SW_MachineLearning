{
 "cells": [
  {
   "cell_type": "code",
   "execution_count": 5,
   "metadata": {},
   "outputs": [
    {
     "name": "stdout",
     "output_type": "stream",
     "text": [
      "('엄마', 0.9293983578681946)\n",
      "[('엄마', 0.9293983578681946), ('어디가', 0.7918757796287537)]\n",
      "0.9293985\n",
      "0.15161611\n",
      "[('엄마', 0.8039979338645935)]\n",
      "[('도쿄', 0.6773518919944763)]\n",
      "[('여자', 0.7413994669914246)]\n",
      "[('강남', 0.6851244568824768), ('인사동', 0.6402742266654968), ('서울특별시', 0.6207907199859619), ('연희동', 0.617041289806366), ('압구정동', 0.6069210171699524)]\n",
      "[('강호동', 0.9053046703338623)]\n"
     ]
    }
   ],
   "source": [
    "from gensim.models import word2vec\n",
    "model = word2vec.Word2Vec.load(\"w2v/wiki.model\") \n",
    "\n",
    "result = model.wv.most_similar(\"아빠\")  \n",
    "print(result[0])   #('엄마', 0.9293983578681946)\n",
    "result = model.wv.most_similar(\"아빠\" , topn = 2)  \n",
    "print(result) # [('엄마', 0.9293983578681946), ('어디가', 0.7918757796287537)]\n",
    "\n",
    "result =model.wv.similarity(\"아빠\", '엄마')  # 유사도 \n",
    "print(result) # 0.9293985 \n",
    "result =model.wv.similarity(\"신발\", '엄마') # 유사도\n",
    "print(result) # 0.15161611 \n",
    "\n",
    "result =model.wv.most_similar(positive=[\"아빠\"  , \"여자\"],negative=[\"남자\"] , topn=1)  # [('엄마', 0.8039979338645935)]\n",
    "print(result)\n",
    "\n",
    "result = model.wv.most_similar(positive=['서울' , '일본'], negative=['한국'], topn=1)\n",
    "print(result)\n",
    "\n",
    "result = model.wv.most_similar(positive=['오른쪽', '남자'], negative=['왼쪽'], topn=1)\n",
    "print(result)\n",
    "\n",
    "result = model.wv.most_similar(positive=['서울' , '맛집'], topn=5)\n",
    "print(result)\n",
    "\n",
    "result = model.wv.most_similar(positive=['유재석'], topn=1)\n",
    "print(result)"
   ]
  },
  {
   "cell_type": "code",
   "execution_count": null,
   "metadata": {},
   "outputs": [],
   "source": []
  }
 ],
 "metadata": {
  "kernelspec": {
   "display_name": "Python 3 (ipykernel)",
   "language": "python",
   "name": "python3"
  },
  "language_info": {
   "codemirror_mode": {
    "name": "ipython",
    "version": 3
   },
   "file_extension": ".py",
   "mimetype": "text/x-python",
   "name": "python",
   "nbconvert_exporter": "python",
   "pygments_lexer": "ipython3",
   "version": "3.11.5"
  }
 },
 "nbformat": 4,
 "nbformat_minor": 4
}
