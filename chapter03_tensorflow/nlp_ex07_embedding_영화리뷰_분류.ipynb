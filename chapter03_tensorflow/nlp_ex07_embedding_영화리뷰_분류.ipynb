{
 "cells": [
  {
   "cell_type": "code",
   "execution_count": 2,
   "metadata": {},
   "outputs": [
    {
     "name": "stdout",
     "output_type": "stream",
     "text": [
      "(25000, 20)\n"
     ]
    }
   ],
   "source": [
    "from tensorflow.keras.layers import Embedding\n",
    "from tensorflow.keras.datasets import imdb\n",
    "from tensorflow.keras import preprocessing\n",
    "\n",
    "max_features = 10000 # 특성으로 사용할 단어의 수\n",
    "maxlen = 20  # 사용할 텍스트의 길이(가장 빈번한 20 개의 단어만 사용합니다)\n",
    "\n",
    "(x_train, y_train), (x_test, y_test) =imdb.load_data(num_words=max_features)\n",
    "\n",
    "# 리스트를 (samples, maxlen) 크기의 2D 정수 텐서로 변환.\n",
    "x_train = preprocessing.sequence.pad_sequences(x_train, maxlen=maxlen) # 가장 빈번한 단어 최대 maxlen(20)개만\n",
    "x_test = preprocessing.sequence.pad_sequences(x_test, maxlen=maxlen)\n",
    "print(x_train.shape)"
   ]
  },
  {
   "cell_type": "code",
   "execution_count": 4,
   "metadata": {
    "scrolled": true
   },
   "outputs": [
    {
     "name": "stdout",
     "output_type": "stream",
     "text": [
      "Model: \"sequential_2\"\n",
      "_________________________________________________________________\n",
      " Layer (type)                Output Shape              Param #   \n",
      "=================================================================\n",
      " embedding_1 (Embedding)     (None, 20, 8)             80000     \n",
      "                                                                 \n",
      " flatten_1 (Flatten)         (None, 160)               0         \n",
      "                                                                 \n",
      " dense_1 (Dense)             (None, 1)                 161       \n",
      "                                                                 \n",
      "=================================================================\n",
      "Total params: 80161 (313.13 KB)\n",
      "Trainable params: 80161 (313.13 KB)\n",
      "Non-trainable params: 0 (0.00 Byte)\n",
      "_________________________________________________________________\n"
     ]
    }
   ],
   "source": [
    "from tensorflow.keras.models import Sequential\n",
    "from tensorflow.keras.layers import Flatten, Dense, Embedding\n",
    "\n",
    "model = Sequential()\n",
    "\n",
    "# 가능한 토큰의 개수(1,0000)와 임베딩 차원(8)로 설정 \n",
    "# 꼭 8일 필요는 없고, 데이터의 양에 따라 적절히 설정\n",
    "# 최대 유니크한 개수 10000개\n",
    "# 몇차원으로 임베딩할거야? -> 8\n",
    "# 한 문장당 몇개 단어임? -> 20(==maxlen)\n",
    "model.add(Embedding(10000, 8, input_length=maxlen))   \n",
    "    \n",
    "# Embedding 층의 출력 크기는 (samples, maxlen, 8)가 됨\n",
    "# 꼭 8로 할 필요는 없고, 데이터의 크기에 따라 적절히 설정하면 됨\n",
    "model.add(Flatten()) #(samples, maxlen * 8) 크기의 2D 텐서로 펼침\n",
    "\n",
    "# 분류기를 추가\n",
    "model.add(Dense(1, activation='sigmoid'))\n",
    "model.compile(optimizer='rmsprop', loss='binary_crossentropy', metrics=['acc'])\n",
    "model.summary()\n",
    "\n",
    "history = model.fit(x_train,y_train,\n",
    "                    verbose=0,\n",
    "                    epochs=10,\n",
    "                    batch_size=32,\n",
    "                    validation_split=0.2)"
   ]
  },
  {
   "cell_type": "markdown",
   "metadata": {},
   "source": [
    "맨 처음 데이터는 25000 개의 리뷰글. 각각의 리뷰글에는 20개의 단어가 있음.<br/>\n",
    "한 글씩 임베딩 과정을 거치면 8개의 숫자가 된다.<br/>\n",
    "(25000,20)의 2차원 데이터가 (25000, 20, 8)의 3차원 데이터가 된다.<br/>\n",
    "<br/>\n",
    "하지만, Dense는 2차원 데이터를 매개변수로 하기 때문에 Flatten()을 통해 2차원으로 바꿔주는 과정이 필요하다."
   ]
  },
  {
   "cell_type": "markdown",
   "metadata": {},
   "source": [
    "리뷰에서 20개의 단어만 사용한 것 치고는 70%이상의 좋은 결과. <br/>\n",
    "하지만,각 단어를 독립적으로 다루었음. 단어 사이의 관계나 문장의 구조를 고려하지 않았음. <br/>\n",
    "각 시퀀스 전체를 고려한 특성을 학습하도록 임베딩 층 위에 순환 층이나 1D 합성곱 층을 추가하는 것이 좋음. "
   ]
  },
  {
   "cell_type": "code",
   "execution_count": null,
   "metadata": {},
   "outputs": [],
   "source": []
  }
 ],
 "metadata": {
  "kernelspec": {
   "display_name": "Python 3 (ipykernel)",
   "language": "python",
   "name": "python3"
  },
  "language_info": {
   "codemirror_mode": {
    "name": "ipython",
    "version": 3
   },
   "file_extension": ".py",
   "mimetype": "text/x-python",
   "name": "python",
   "nbconvert_exporter": "python",
   "pygments_lexer": "ipython3",
   "version": "3.11.5"
  }
 },
 "nbformat": 4,
 "nbformat_minor": 4
}
