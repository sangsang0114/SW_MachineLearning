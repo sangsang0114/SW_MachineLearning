{
 "cells": [
  {
   "cell_type": "code",
   "execution_count": 1,
   "id": "d85f8fc4",
   "metadata": {},
   "outputs": [],
   "source": [
    "# !pip install selenium"
   ]
  },
  {
   "cell_type": "code",
   "execution_count": 2,
   "id": "0544f7a3",
   "metadata": {},
   "outputs": [],
   "source": [
    "original_urls = []\n",
    "news_urls = []\n",
    "news_summaries = []\n",
    "targets = []"
   ]
  },
  {
   "cell_type": "code",
   "execution_count": 3,
   "id": "4dff0bcf",
   "metadata": {},
   "outputs": [],
   "source": [
    "economy_news_url = 'https://news.naver.com/section/101'\n",
    "sceince_news_url = 'https://news.naver.com/section/105'"
   ]
  },
  {
   "cell_type": "code",
   "execution_count": 4,
   "id": "b8725654",
   "metadata": {},
   "outputs": [],
   "source": [
    "def get_news_data(news_url, limit = 20):\n",
    "    import selenium\n",
    "    from selenium.webdriver.common.by import By\n",
    "    from selenium import webdriver\n",
    "    import time\n",
    "    driver = webdriver.Chrome()\n",
    "    driver.get(news_url)\n",
    "    html= driver.page_source\n",
    "    \n",
    "    from bs4 import BeautifulSoup\n",
    "    html = driver.page_source\n",
    "    \n",
    "    bs = BeautifulSoup(html, 'html.parser')\n",
    "    body = bs.find(\"body\")\n",
    "    news_titles = bs.find_all(\"a\", class_=\"sa_text_title\", limit=limit)\n",
    "    \n",
    "    for title in news_titles:\n",
    "        original_urls.append(title.attrs['href'])\n",
    "    idx = 0\n",
    "    for url in original_urls:\n",
    "        if(idx == limit):\n",
    "            break\n",
    "        idx+=1\n",
    "        try:\n",
    "            driver.get(url)\n",
    "            news_content = driver.page_source\n",
    "            time.sleep(3)\n",
    "            summary_button = driver.find_element(By.CLASS_NAME,'media_end_head_autosummary_button')\n",
    "        except:\n",
    "            idx-=1\n",
    "            pass\n",
    "        else:\n",
    "            summary_button.click()\n",
    "            summary_content = driver.find_element(By.CLASS_NAME,'_SUMMARY_CONTENT_BODY')\n",
    "            time.sleep(3)\n",
    "            news_summaries.append(summary_content.text)\n",
    "            news_urls.append(url)\n",
    "            if news_url == economy_news_url:\n",
    "                targets.append(0)\n",
    "            else:\n",
    "                targets.append(1)"
   ]
  },
  {
   "cell_type": "code",
   "execution_count": 5,
   "id": "7e7e01aa",
   "metadata": {},
   "outputs": [],
   "source": [
    "get_news_data(economy_news_url,limit= 40)\n",
    "get_news_data(sceince_news_url,limit= 40)"
   ]
  },
  {
   "cell_type": "code",
   "execution_count": 6,
   "id": "6f45c6cd",
   "metadata": {},
   "outputs": [],
   "source": [
    "import numpy as np"
   ]
  },
  {
   "cell_type": "code",
   "execution_count": null,
   "id": "53a7f0ff",
   "metadata": {},
   "outputs": [],
   "source": []
  },
  {
   "cell_type": "code",
   "execution_count": 7,
   "id": "33ab29f5",
   "metadata": {},
   "outputs": [],
   "source": [
    "import pandas as pd\n",
    "df = pd.DataFrame(news_urls, columns=['url'])\n",
    "# df['title'] = news_titles\n",
    "df['summary'] = news_summaries\n",
    "df['target'] = targets "
   ]
  },
  {
   "cell_type": "code",
   "execution_count": null,
   "id": "f553c26a",
   "metadata": {},
   "outputs": [],
   "source": []
  },
  {
   "cell_type": "code",
   "execution_count": 9,
   "id": "8dcb7132",
   "metadata": {},
   "outputs": [],
   "source": [
    "df.to_csv('news_raw2.csv', index=False, encoding='euc-kr')"
   ]
  },
  {
   "cell_type": "markdown",
   "id": "62165393",
   "metadata": {},
   "source": [
    "driver.close()"
   ]
  },
  {
   "cell_type": "code",
   "execution_count": null,
   "id": "62bd9710",
   "metadata": {},
   "outputs": [],
   "source": []
  }
 ],
 "metadata": {
  "kernelspec": {
   "display_name": "Python 3 (ipykernel)",
   "language": "python",
   "name": "python3"
  },
  "language_info": {
   "codemirror_mode": {
    "name": "ipython",
    "version": 3
   },
   "file_extension": ".py",
   "mimetype": "text/x-python",
   "name": "python",
   "nbconvert_exporter": "python",
   "pygments_lexer": "ipython3",
   "version": "3.11.5"
  }
 },
 "nbformat": 4,
 "nbformat_minor": 5
}
