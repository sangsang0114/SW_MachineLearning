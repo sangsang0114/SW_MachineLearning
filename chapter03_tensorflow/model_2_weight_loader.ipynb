{
 "cells": [
  {
   "cell_type": "code",
   "execution_count": 2,
   "id": "56c064cb",
   "metadata": {},
   "outputs": [
    {
     "name": "stdout",
     "output_type": "stream",
     "text": [
      "1/1 [==============================] - 0s 117ms/step\n",
      "Predictions: [1.0065719 2.9959388 4.985306  6.9746723 8.96404  ]\n"
     ]
    }
   ],
   "source": [
    "from tensorflow import keras\n",
    "import numpy\n",
    "x = numpy.array([0, 1, 2, 3, 4])\n",
    "\n",
    "\n",
    "model = keras.models.Sequential()\n",
    "model.add(keras.layers.Dense(1, input_shape=(1,)))\n",
    "model.compile('SGD', 'mse')\n",
    "\n",
    "model.load_weights(\"k_model\")\n",
    "print('Predictions:', model.predict(x).flatten()) # 예측 결과"
   ]
  },
  {
   "cell_type": "code",
   "execution_count": null,
   "id": "c5b97603",
   "metadata": {},
   "outputs": [],
   "source": []
  }
 ],
 "metadata": {
  "kernelspec": {
   "display_name": "Python 3 (ipykernel)",
   "language": "python",
   "name": "python3"
  },
  "language_info": {
   "codemirror_mode": {
    "name": "ipython",
    "version": 3
   },
   "file_extension": ".py",
   "mimetype": "text/x-python",
   "name": "python",
   "nbconvert_exporter": "python",
   "pygments_lexer": "ipython3",
   "version": "3.11.5"
  }
 },
 "nbformat": 4,
 "nbformat_minor": 5
}
