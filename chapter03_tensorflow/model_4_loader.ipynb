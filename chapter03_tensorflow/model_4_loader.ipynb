{
 "cells": [
  {
   "cell_type": "code",
   "execution_count": 2,
   "id": "08f5d1fc",
   "metadata": {},
   "outputs": [
    {
     "name": "stdout",
     "output_type": "stream",
     "text": [
      "1/1 [==============================] - 0s 17ms/step\n",
      "Predictions: [1.0034286 2.9978807 4.992333  6.986785  8.981237 ]\n"
     ]
    }
   ],
   "source": [
    "import numpy\n",
    "x = numpy.array([0, 1, 2, 3, 4])\n",
    "\n",
    "from tensorflow.keras.models import #TODO\n",
    "model=#TODO('model_1.h5')\n",
    "print('Predictions:', model.#TODO.flatten()) # 예측 결과\n"
   ]
  }
 ],
 "metadata": {
  "kernelspec": {
   "display_name": "Python 3 (ipykernel)",
   "language": "python",
   "name": "python3"
  },
  "language_info": {
   "codemirror_mode": {
    "name": "ipython",
    "version": 3
   },
   "file_extension": ".py",
   "mimetype": "text/x-python",
   "name": "python",
   "nbconvert_exporter": "python",
   "pygments_lexer": "ipython3",
   "version": "3.10.9"
  }
 },
 "nbformat": 4,
 "nbformat_minor": 5
}
