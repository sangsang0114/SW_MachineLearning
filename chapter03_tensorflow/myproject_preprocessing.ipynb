{
 "cells": [
  {
   "cell_type": "markdown",
   "id": "98b36026",
   "metadata": {},
   "source": [
    "## csv 파일에서 뉴스 요약 부분 가져오기"
   ]
  },
  {
   "cell_type": "code",
   "execution_count": 1,
   "id": "7b2015db",
   "metadata": {},
   "outputs": [],
   "source": [
    "import pandas as pd\n",
    "df = pd.read_csv('news_raw_3.csv')\n",
    "df= df.dropna(how='any')"
   ]
  },
  {
   "cell_type": "code",
   "execution_count": 2,
   "id": "11644647",
   "metadata": {},
   "outputs": [],
   "source": [
    "economy = df.loc[df['target']==0, ('summary')].to_numpy()\n",
    "science = df.loc[df['target']==1, ('summary')].to_numpy()"
   ]
  },
  {
   "cell_type": "markdown",
   "id": "7fab3124",
   "metadata": {},
   "source": [
    "## 한글만 추출. 숫자, 영문자, 특수기호 등 제거"
   ]
  },
  {
   "cell_type": "code",
   "execution_count": 3,
   "id": "69749123",
   "metadata": {},
   "outputs": [],
   "source": [
    "def get_clear_text(news_numpy):\n",
    "    import re\n",
    "    result = []\n",
    "    for news in news_numpy:\n",
    "        news = str(news)\n",
    "        han = re.findall(\"[가-힣]+\", news)\n",
    "        temp = \" \".join(han)\n",
    "        result.append(temp)\n",
    "    return result"
   ]
  },
  {
   "cell_type": "code",
   "execution_count": 4,
   "id": "74531507",
   "metadata": {},
   "outputs": [],
   "source": [
    "economy_clear_text = get_clear_text(economy)\n",
    "science_clear_text = get_clear_text(science)"
   ]
  },
  {
   "cell_type": "markdown",
   "id": "c091ed1d",
   "metadata": {},
   "source": [
    "## 추출된 한글에서 2글자 이상의 명사만 추출\n"
   ]
  },
  {
   "cell_type": "code",
   "execution_count": 5,
   "id": "6583e68f",
   "metadata": {},
   "outputs": [],
   "source": [
    "from konlpy.tag import Kkma\n",
    "kkma = Kkma()"
   ]
  },
  {
   "cell_type": "code",
   "execution_count": 6,
   "id": "051fa9a8",
   "metadata": {},
   "outputs": [],
   "source": [
    "def get_nouns_by_sentence(texts):\n",
    "    result = []\n",
    "    for txt in texts:\n",
    "        nouns = kkma.nouns(txt)\n",
    "        temp_nouns = []\n",
    "        for noun in nouns:\n",
    "            if len(noun) > 1:\n",
    "                temp_nouns.append(noun)\n",
    "        result.append(' '.join(temp_nouns))\n",
    "    return result"
   ]
  },
  {
   "cell_type": "code",
   "execution_count": 7,
   "id": "44272335",
   "metadata": {},
   "outputs": [],
   "source": [
    "economy_nouns = get_nouns_by_sentence(economy_clear_text)\n",
    "science_nouns = get_nouns_by_sentence(science_clear_text)"
   ]
  },
  {
   "cell_type": "markdown",
   "id": "1fd2a28e",
   "metadata": {},
   "source": [
    "## 원핫 인코딩 후 피클로 저장"
   ]
  },
  {
   "cell_type": "code",
   "execution_count": 8,
   "id": "2d143a48",
   "metadata": {},
   "outputs": [
    {
     "name": "stdout",
     "output_type": "stream",
     "text": [
      "WARNING:tensorflow:From C:\\Users\\admin\\AppData\\Roaming\\Python\\Python311\\site-packages\\keras\\src\\losses.py:2976: The name tf.losses.sparse_softmax_cross_entropy is deprecated. Please use tf.compat.v1.losses.sparse_softmax_cross_entropy instead.\n",
      "\n"
     ]
    }
   ],
   "source": [
    "from tensorflow.keras import preprocessing"
   ]
  },
  {
   "cell_type": "code",
   "execution_count": 9,
   "id": "46da87c3",
   "metadata": {},
   "outputs": [],
   "source": [
    "tokenizer = preprocessing.text.Tokenizer(num_words=350)\n",
    "tokenizer.fit_on_texts([economy_nouns,science_nouns])"
   ]
  },
  {
   "cell_type": "code",
   "execution_count": 10,
   "id": "e66ad76f",
   "metadata": {},
   "outputs": [],
   "source": [
    "science_onehot = tokenizer.texts_to_matrix(science_nouns, mode='binary')"
   ]
  },
  {
   "cell_type": "code",
   "execution_count": 11,
   "id": "56e43244",
   "metadata": {},
   "outputs": [],
   "source": [
    "economy_onehot = tokenizer.texts_to_matrix(economy_nouns, mode ='binary')"
   ]
  },
  {
   "cell_type": "code",
   "execution_count": 12,
   "id": "a96f91c1",
   "metadata": {},
   "outputs": [],
   "source": [
    "import numpy as np"
   ]
  },
  {
   "cell_type": "code",
   "execution_count": 13,
   "id": "62b87b67",
   "metadata": {},
   "outputs": [],
   "source": [
    "onehot_result = np.concatenate((economy_onehot,science_onehot), axis =0)"
   ]
  },
  {
   "cell_type": "code",
   "execution_count": 14,
   "id": "d1dc9139",
   "metadata": {},
   "outputs": [
    {
     "data": {
      "text/plain": [
       "array([[0., 0., 0., ..., 0., 0., 0.],\n",
       "       [0., 0., 0., ..., 0., 0., 0.],\n",
       "       [0., 0., 0., ..., 0., 0., 0.],\n",
       "       ...,\n",
       "       [0., 0., 0., ..., 0., 0., 0.],\n",
       "       [0., 0., 0., ..., 0., 0., 0.],\n",
       "       [0., 0., 0., ..., 0., 0., 0.]])"
      ]
     },
     "execution_count": 14,
     "metadata": {},
     "output_type": "execute_result"
    }
   ],
   "source": [
    "onehot_result"
   ]
  },
  {
   "cell_type": "code",
   "execution_count": 15,
   "id": "cbc67f2a",
   "metadata": {},
   "outputs": [],
   "source": [
    "import pickle\n",
    "with open('onehot_result.pickle', 'wb') as fw:\n",
    "    pickle.dump(onehot_result, fw)"
   ]
  }
 ],
 "metadata": {
  "kernelspec": {
   "display_name": "Python 3 (ipykernel)",
   "language": "python",
   "name": "python3"
  },
  "language_info": {
   "codemirror_mode": {
    "name": "ipython",
    "version": 3
   },
   "file_extension": ".py",
   "mimetype": "text/x-python",
   "name": "python",
   "nbconvert_exporter": "python",
   "pygments_lexer": "ipython3",
   "version": "3.11.5"
  }
 },
 "nbformat": 4,
 "nbformat_minor": 5
}
