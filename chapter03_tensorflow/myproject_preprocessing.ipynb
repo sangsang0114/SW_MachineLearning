{
 "cells": [
  {
   "cell_type": "code",
   "execution_count": 1,
   "id": "63bf4a59",
   "metadata": {},
   "outputs": [],
   "source": [
    "# !pip install konlpy\n",
    "# !pip install tensorflow"
   ]
  },
  {
   "cell_type": "code",
   "execution_count": 2,
   "id": "7b2015db",
   "metadata": {},
   "outputs": [],
   "source": [
    "import pandas as pd\n",
    "df = pd.read_csv('news_raw2.csv', encoding='euc-kr')"
   ]
  },
  {
   "cell_type": "code",
   "execution_count": 3,
   "id": "fa27a026",
   "metadata": {},
   "outputs": [],
   "source": [
    "df.isna().sum()\n",
    "df = df.dropna(how='any')"
   ]
  },
  {
   "cell_type": "code",
   "execution_count": 4,
   "id": "dee2e68e",
   "metadata": {},
   "outputs": [
    {
     "data": {
      "text/html": [
       "<div>\n",
       "<style scoped>\n",
       "    .dataframe tbody tr th:only-of-type {\n",
       "        vertical-align: middle;\n",
       "    }\n",
       "\n",
       "    .dataframe tbody tr th {\n",
       "        vertical-align: top;\n",
       "    }\n",
       "\n",
       "    .dataframe thead th {\n",
       "        text-align: right;\n",
       "    }\n",
       "</style>\n",
       "<table border=\"1\" class=\"dataframe\">\n",
       "  <thead>\n",
       "    <tr style=\"text-align: right;\">\n",
       "      <th></th>\n",
       "      <th>url</th>\n",
       "      <th>summary</th>\n",
       "      <th>target</th>\n",
       "    </tr>\n",
       "  </thead>\n",
       "  <tbody>\n",
       "    <tr>\n",
       "      <th>0</th>\n",
       "      <td>https://n.news.naver.com/mnews/article/009/000...</td>\n",
       "      <td>롯데, 우수 인재 확보 강화...신입사원 연 4회 통합선발\\n롯데그룹이 신입사원 수...</td>\n",
       "      <td>0</td>\n",
       "    </tr>\n",
       "    <tr>\n",
       "      <th>1</th>\n",
       "      <td>https://n.news.naver.com/mnews/article/374/000...</td>\n",
       "      <td>모범납세자 569명 포상…금탑훈장에 ㈜동서\\n기획재정부와 국세청은 '제58회 납세자...</td>\n",
       "      <td>0</td>\n",
       "    </tr>\n",
       "    <tr>\n",
       "      <th>2</th>\n",
       "      <td>https://n.news.naver.com/mnews/article/123/000...</td>\n",
       "      <td>이번엔 골수 줄기세포 주사?... 실손보험금 반년 새 ‘줄줄’ 샌다\\n지난해 7월 ...</td>\n",
       "      <td>0</td>\n",
       "    </tr>\n",
       "    <tr>\n",
       "      <th>3</th>\n",
       "      <td>https://n.news.naver.com/mnews/article/366/000...</td>\n",
       "      <td>SK하이닉스 “키옥시아·WD 합병 관련 정부 설득 없었다”\\n일본 낸드플래시 기업인...</td>\n",
       "      <td>0</td>\n",
       "    </tr>\n",
       "    <tr>\n",
       "      <th>4</th>\n",
       "      <td>https://n.news.naver.com/mnews/article/011/000...</td>\n",
       "      <td>'반값 아파트' 토지임대부 주택, 개인 간 거래 허용된다\\n앞으로 '반값 아파트'로...</td>\n",
       "      <td>0</td>\n",
       "    </tr>\n",
       "    <tr>\n",
       "      <th>...</th>\n",
       "      <td>...</td>\n",
       "      <td>...</td>\n",
       "      <td>...</td>\n",
       "    </tr>\n",
       "    <tr>\n",
       "      <th>73</th>\n",
       "      <td>https://n.news.naver.com/mnews/article/018/000...</td>\n",
       "      <td>\"자산가 늘어나면서 하이엔드 주택 시장 급성장할 것\"\\n부동산 시행사 더랜드의 김완...</td>\n",
       "      <td>1</td>\n",
       "    </tr>\n",
       "    <tr>\n",
       "      <th>74</th>\n",
       "      <td>https://n.news.naver.com/mnews/article/031/000...</td>\n",
       "      <td>\"금리 낮아지면 침체 주택시장 반전하나요\"\\n거래량이 줄고 가격 하락세가 지속되는 ...</td>\n",
       "      <td>1</td>\n",
       "    </tr>\n",
       "    <tr>\n",
       "      <th>75</th>\n",
       "      <td>https://n.news.naver.com/mnews/article/025/000...</td>\n",
       "      <td>[단독]美빌딩에 정부 돈 1800억 넣은 미래에셋, 전액 날릴 위기\\n미래에셋자산운...</td>\n",
       "      <td>1</td>\n",
       "    </tr>\n",
       "    <tr>\n",
       "      <th>76</th>\n",
       "      <td>https://n.news.naver.com/mnews/article/014/000...</td>\n",
       "      <td>개인정보위, '홍채 수집' 월드코인 조사 착수\\n개인정보보호위원회가 홍채인식 정보를...</td>\n",
       "      <td>1</td>\n",
       "    </tr>\n",
       "    <tr>\n",
       "      <th>77</th>\n",
       "      <td>https://n.news.naver.com/mnews/article/015/000...</td>\n",
       "      <td>프로야구 모바일 중계 돈 내고 본다\\n스마트폰으로 프로야구를 보려면 돈을 내야 하는...</td>\n",
       "      <td>1</td>\n",
       "    </tr>\n",
       "  </tbody>\n",
       "</table>\n",
       "<p>78 rows × 3 columns</p>\n",
       "</div>"
      ],
      "text/plain": [
       "                                                  url  \\\n",
       "0   https://n.news.naver.com/mnews/article/009/000...   \n",
       "1   https://n.news.naver.com/mnews/article/374/000...   \n",
       "2   https://n.news.naver.com/mnews/article/123/000...   \n",
       "3   https://n.news.naver.com/mnews/article/366/000...   \n",
       "4   https://n.news.naver.com/mnews/article/011/000...   \n",
       "..                                                ...   \n",
       "73  https://n.news.naver.com/mnews/article/018/000...   \n",
       "74  https://n.news.naver.com/mnews/article/031/000...   \n",
       "75  https://n.news.naver.com/mnews/article/025/000...   \n",
       "76  https://n.news.naver.com/mnews/article/014/000...   \n",
       "77  https://n.news.naver.com/mnews/article/015/000...   \n",
       "\n",
       "                                              summary  target  \n",
       "0   롯데, 우수 인재 확보 강화...신입사원 연 4회 통합선발\\n롯데그룹이 신입사원 수...       0  \n",
       "1   모범납세자 569명 포상…금탑훈장에 ㈜동서\\n기획재정부와 국세청은 '제58회 납세자...       0  \n",
       "2   이번엔 골수 줄기세포 주사?... 실손보험금 반년 새 ‘줄줄’ 샌다\\n지난해 7월 ...       0  \n",
       "3   SK하이닉스 “키옥시아·WD 합병 관련 정부 설득 없었다”\\n일본 낸드플래시 기업인...       0  \n",
       "4   '반값 아파트' 토지임대부 주택, 개인 간 거래 허용된다\\n앞으로 '반값 아파트'로...       0  \n",
       "..                                                ...     ...  \n",
       "73  \"자산가 늘어나면서 하이엔드 주택 시장 급성장할 것\"\\n부동산 시행사 더랜드의 김완...       1  \n",
       "74  \"금리 낮아지면 침체 주택시장 반전하나요\"\\n거래량이 줄고 가격 하락세가 지속되는 ...       1  \n",
       "75  [단독]美빌딩에 정부 돈 1800억 넣은 미래에셋, 전액 날릴 위기\\n미래에셋자산운...       1  \n",
       "76  개인정보위, '홍채 수집' 월드코인 조사 착수\\n개인정보보호위원회가 홍채인식 정보를...       1  \n",
       "77  프로야구 모바일 중계 돈 내고 본다\\n스마트폰으로 프로야구를 보려면 돈을 내야 하는...       1  \n",
       "\n",
       "[78 rows x 3 columns]"
      ]
     },
     "execution_count": 4,
     "metadata": {},
     "output_type": "execute_result"
    }
   ],
   "source": [
    "df"
   ]
  },
  {
   "cell_type": "code",
   "execution_count": 5,
   "id": "3c54c6f4",
   "metadata": {
    "scrolled": true
   },
   "outputs": [],
   "source": [
    "sample_text = df.loc[:,('summary')].to_numpy()"
   ]
  },
  {
   "cell_type": "code",
   "execution_count": 6,
   "id": "71aaa55f",
   "metadata": {},
   "outputs": [],
   "source": [
    "from konlpy.tag import Kkma\n",
    "kkma = Kkma()\n",
    "my_nouns=[]\n",
    "\n",
    "idx = 0\n",
    "for txt in sample_text:\n",
    "    idx+=1\n",
    "    if txt == '':\n",
    "        continue\n",
    "    nouns = kkma.nouns(txt)\n",
    "    for noun in nouns:\n",
    "        if len(noun) > 1:\n",
    "            my_nouns.append(noun)"
   ]
  },
  {
   "cell_type": "code",
   "execution_count": 7,
   "id": "49ddb8b3",
   "metadata": {},
   "outputs": [
    {
     "name": "stdout",
     "output_type": "stream",
     "text": [
      "WARNING:tensorflow:From C:\\Users\\Yoon\\AppData\\Roaming\\Python\\Python311\\site-packages\\keras\\src\\losses.py:2976: The name tf.losses.sparse_softmax_cross_entropy is deprecated. Please use tf.compat.v1.losses.sparse_softmax_cross_entropy instead.\n",
      "\n"
     ]
    }
   ],
   "source": [
    "from tensorflow.keras import preprocessing"
   ]
  },
  {
   "cell_type": "code",
   "execution_count": 8,
   "id": "94cdc1d3",
   "metadata": {
    "scrolled": true
   },
   "outputs": [],
   "source": [
    "tokenizer = preprocessing.text.Tokenizer(num_words=300)\n",
    "tokenizer.fit_on_texts(my_nouns)"
   ]
  },
  {
   "cell_type": "code",
   "execution_count": 9,
   "id": "1733e653",
   "metadata": {},
   "outputs": [
    {
     "name": "stdout",
     "output_type": "stream",
     "text": [
      "one_hot_results [[0. 0. 0. ... 0. 0. 0.]\n",
      " [0. 0. 0. ... 1. 0. 1.]\n",
      " [0. 0. 0. ... 0. 0. 0.]\n",
      " ...\n",
      " [0. 0. 1. ... 0. 0. 0.]\n",
      " [0. 0. 0. ... 0. 0. 0.]\n",
      " [0. 0. 0. ... 0. 0. 0.]]\n"
     ]
    }
   ],
   "source": [
    "one_hot_results = tokenizer.texts_to_matrix(sample_text, mode='binary')\n",
    "print( \"one_hot_results\", one_hot_results  )"
   ]
  },
  {
   "cell_type": "code",
   "execution_count": 10,
   "id": "550fa3ad",
   "metadata": {},
   "outputs": [],
   "source": [
    "labels = [0]"
   ]
  },
  {
   "cell_type": "code",
   "execution_count": 11,
   "id": "828e2372",
   "metadata": {},
   "outputs": [],
   "source": [
    "data = one_hot_results"
   ]
  },
  {
   "cell_type": "code",
   "execution_count": 12,
   "id": "070aeeba",
   "metadata": {},
   "outputs": [],
   "source": [
    "target = df.loc[:,('target')]"
   ]
  },
  {
   "cell_type": "code",
   "execution_count": 13,
   "id": "30d38dfc",
   "metadata": {},
   "outputs": [],
   "source": [
    "from sklearn.model_selection import train_test_split\n",
    "train_input, test_input, train_target, test_target = train_test_split(data, target, test_size=0.2, random_state=42)"
   ]
  },
  {
   "cell_type": "code",
   "execution_count": null,
   "id": "c56a2148",
   "metadata": {},
   "outputs": [],
   "source": []
  },
  {
   "cell_type": "code",
   "execution_count": 14,
   "id": "77fe3cca",
   "metadata": {},
   "outputs": [
    {
     "name": "stdout",
     "output_type": "stream",
     "text": [
      "WARNING:tensorflow:From C:\\Users\\Yoon\\AppData\\Roaming\\Python\\Python311\\site-packages\\keras\\src\\backend.py:873: The name tf.get_default_graph is deprecated. Please use tf.compat.v1.get_default_graph instead.\n",
      "\n",
      "WARNING:tensorflow:From C:\\Users\\Yoon\\AppData\\Roaming\\Python\\Python311\\site-packages\\keras\\src\\optimizers\\__init__.py:309: The name tf.train.Optimizer is deprecated. Please use tf.compat.v1.train.Optimizer instead.\n",
      "\n"
     ]
    }
   ],
   "source": [
    "from tensorflow.keras.models import Sequential\n",
    "from tensorflow.keras.layers import Flatten, Dense\n",
    "from tensorflow.keras import layers\n",
    "\n",
    "model = Sequential()\n",
    "model.add(layers.Dense(50, activation='relu', input_shape=(300,)))\n",
    "model.add(layers.Dense(50, activation='relu'))\n",
    "model.add(layers.Dense(1,activation='sigmoid'))\n",
    "\n",
    "model.compile(optimizer='rmsprop',\n",
    "             loss='binary_crossentropy',\n",
    "             metrics=['accuracy'])"
   ]
  },
  {
   "cell_type": "code",
   "execution_count": 15,
   "id": "f63220dc",
   "metadata": {},
   "outputs": [
    {
     "name": "stdout",
     "output_type": "stream",
     "text": [
      "WARNING:tensorflow:From C:\\Users\\Yoon\\AppData\\Roaming\\Python\\Python311\\site-packages\\keras\\src\\utils\\tf_utils.py:492: The name tf.ragged.RaggedTensorValue is deprecated. Please use tf.compat.v1.ragged.RaggedTensorValue instead.\n",
      "\n",
      "WARNING:tensorflow:From C:\\Users\\Yoon\\AppData\\Roaming\\Python\\Python311\\site-packages\\keras\\src\\engine\\base_layer_utils.py:384: The name tf.executing_eagerly_outside_functions is deprecated. Please use tf.compat.v1.executing_eagerly_outside_functions instead.\n",
      "\n"
     ]
    }
   ],
   "source": [
    "history = model.fit(train_input,\n",
    "                   train_target,\n",
    "                   epochs=50,\n",
    "                   validation_data=(test_input,test_target),\n",
    "                   verbose=0)"
   ]
  },
  {
   "cell_type": "code",
   "execution_count": 16,
   "id": "7f10a767",
   "metadata": {
    "scrolled": false
   },
   "outputs": [
    {
     "data": {
      "image/png": "[encoded data removed]",
      "text/plain": [
       "<Figure size 640x480 with 1 Axes>"
      ]
     },
     "metadata": {},
     "output_type": "display_data"
    },
    {
     "data": {
      "image/png": "[encoded data removed]",
      "text/plain": [
       "<Figure size 640x480 with 1 Axes>"
      ]
     },
     "metadata": {},
     "output_type": "display_data"
    }
   ],
   "source": [
    "history_dict = history.history\n",
    "history_dict.keys()\n",
    "\n",
    "import matplotlib.pyplot as plt\n",
    "%matplotlib inline \n",
    "\n",
    "acc = history.history['accuracy']\n",
    "val_acc = history.history['val_accuracy']\n",
    "loss = history.history['loss']\n",
    "val_loss = history.history['val_loss']\n",
    "\n",
    "epochs = range(1, len(acc) + 1)\n",
    "plt.plot(epochs, loss, 'bo', label='Training loss')# ‘bo’는 파란색 점\n",
    "plt.plot(epochs, val_loss, 'b', label='Validation loss')# ‘b’는 파란색 실선\n",
    "plt.title('Training and validation loss')\n",
    "plt.xlabel('Epochs')\n",
    "plt.ylabel('Loss')\n",
    "plt.legend()\n",
    "plt.show()\n",
    "\n",
    "plt.clf()   # 그래프를 초기화\n",
    "acc = history_dict['accuracy']\n",
    "val_acc = history_dict['val_accuracy']\n",
    "plt.plot(epochs, acc, 'bo', label='Training acc')\n",
    "plt.plot(epochs, val_acc, 'b', label='Validation acc')\n",
    "plt.title('Training and validation accuracy')\n",
    "plt.xlabel('Epochs')\n",
    "plt.ylabel('Accuracy')\n",
    "plt.legend()\n",
    "plt.show()"
   ]
  },
  {
   "cell_type": "code",
   "execution_count": null,
   "id": "c5094c6c",
   "metadata": {},
   "outputs": [],
   "source": []
  },
  {
   "cell_type": "code",
   "execution_count": null,
   "id": "9f0329d7",
   "metadata": {},
   "outputs": [],
   "source": []
  },
  {
   "cell_type": "code",
   "execution_count": null,
   "id": "5482f0f9",
   "metadata": {},
   "outputs": [],
   "source": []
  }
 ],
 "metadata": {
  "kernelspec": {
   "display_name": "Python 3 (ipykernel)",
   "language": "python",
   "name": "python3"
  },
  "language_info": {
   "codemirror_mode": {
    "name": "ipython",
    "version": 3
   },
   "file_extension": ".py",
   "mimetype": "text/x-python",
   "name": "python",
   "nbconvert_exporter": "python",
   "pygments_lexer": "ipython3",
   "version": "3.11.5"
  }
 },
 "nbformat": 4,
 "nbformat_minor": 5
}
