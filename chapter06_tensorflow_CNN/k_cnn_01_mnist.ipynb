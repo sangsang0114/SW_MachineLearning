{
 "cells": [
  {
   "cell_type": "markdown",
   "id": "01fd5abd",
   "metadata": {},
   "source": [
    "## 분류 CNN 모델링"
   ]
  },
  {
   "cell_type": "code",
   "execution_count": 1,
   "id": "100b7ba2",
   "metadata": {},
   "outputs": [
    {
     "name": "stdout",
     "output_type": "stream",
     "text": [
      "WARNING:tensorflow:From C:\\Users\\admin\\AppData\\Roaming\\Python\\Python311\\site-packages\\keras\\src\\losses.py:2976: The name tf.losses.sparse_softmax_cross_entropy is deprecated. Please use tf.compat.v1.losses.sparse_softmax_cross_entropy instead.\n",
      "\n"
     ]
    }
   ],
   "source": [
    "import tensorflow.keras as keras\n",
    "from tensorflow.keras import models, layers\n",
    "def CNN(W,H,C , Nout):\n",
    "        model = models.Sequential()\n",
    "        model.add(\n",
    "            layers.Conv2D(\n",
    "                64,(3,3),activation='relu',\n",
    "                input_shape = (W,H,C)\n",
    "            )\n",
    "        )\n",
    "        model.add(layers.Conv2D(64,(3,3), activation='relu'))\n",
    "        model.add(layers.MaxPooling2D(pool_size=(2,2)))\n",
    "        model.add(layers.Dropout(0.25))\n",
    "        model.add(layers.Flatten())\n",
    "        model.add(layers.Dense(128, activation='relu'))\n",
    "        model.add(layers.Dropout(0.5))\n",
    "        model.add(layers.Dense(Nout,activation='softmax'))\n",
    "\n",
    "        model.compile(loss=keras.losses.categorical_crossentropy,\n",
    "                      optimizer='rmsprop',\n",
    "                      metrics=['acc'])\n",
    "        return model;"
   ]
  },
  {
   "cell_type": "markdown",
   "id": "b177199f",
   "metadata": {},
   "source": [
    "이미지 데이터 X, 0~9까지 붙인 이름표를 Y로 하는 70,000개의 데이터 중 60,000개를 학습 데이터로,10,000개를 테스트 데이터로 읽어옵니다. <br/>\n",
    "\n",
    "원-핫 인코딩을 위해 케라스의 np_utils 의 to_categorical() 함수를 사용하여 0 ~ 9까지의 정수 값을 갖는 형태가 아닌 0 이나 1로 이뤄진 벡터로 수정 만약에 '3' 이라는 숫자이라면 [0, 0, 1, 0, 0, 0, 0, 0, 0]으로 변환 "
   ]
  },
  {
   "cell_type": "code",
   "execution_count": 2,
   "id": "85a41fde",
   "metadata": {},
   "outputs": [],
   "source": [
    "from tensorflow.keras import datasets\n",
    "from tensorflow.keras.utils import to_categorical \n",
    "def Data_func():\n",
    "    (X_train, y_train), (X_test, y_test) = datasets.mnist.load_data()\n",
    "\n",
    "    Y_train = to_categorical(y_train)\n",
    "    Y_test = to_categorical(y_test)\n",
    "\n",
    "    L, W, H = X_train.shape\n",
    "    print(L, W, H)\n",
    "\n",
    "    X_train = X_train.reshape(60000, W, H,-1)\n",
    "    X_test = X_test.reshape(10000,W, H,-1)\n",
    "\n",
    "    X_train = X_train/ 255.0\n",
    "    X_test = X_test/ 255.0\n",
    "\n",
    "    return (X_train, Y_train), (X_test, Y_test)"
   ]
  },
  {
   "cell_type": "code",
   "execution_count": 3,
   "id": "8443c75b",
   "metadata": {},
   "outputs": [
    {
     "name": "stdout",
     "output_type": "stream",
     "text": [
      "60000 28 28\n",
      "WARNING:tensorflow:From C:\\Users\\admin\\AppData\\Roaming\\Python\\Python311\\site-packages\\keras\\src\\backend.py:873: The name tf.get_default_graph is deprecated. Please use tf.compat.v1.get_default_graph instead.\n",
      "\n",
      "WARNING:tensorflow:From C:\\Users\\admin\\AppData\\Roaming\\Python\\Python311\\site-packages\\keras\\src\\layers\\pooling\\max_pooling2d.py:161: The name tf.nn.max_pool is deprecated. Please use tf.nn.max_pool2d instead.\n",
      "\n",
      "WARNING:tensorflow:From C:\\Users\\admin\\AppData\\Roaming\\Python\\Python311\\site-packages\\keras\\src\\optimizers\\__init__.py:309: The name tf.train.Optimizer is deprecated. Please use tf.compat.v1.train.Optimizer instead.\n",
      "\n",
      "Epoch 1/10\n",
      "WARNING:tensorflow:From C:\\Users\\admin\\AppData\\Roaming\\Python\\Python311\\site-packages\\keras\\src\\utils\\tf_utils.py:492: The name tf.ragged.RaggedTensorValue is deprecated. Please use tf.compat.v1.ragged.RaggedTensorValue instead.\n",
      "\n",
      "WARNING:tensorflow:From C:\\Users\\admin\\AppData\\Roaming\\Python\\Python311\\site-packages\\keras\\src\\engine\\base_layer_utils.py:384: The name tf.executing_eagerly_outside_functions is deprecated. Please use tf.compat.v1.executing_eagerly_outside_functions instead.\n",
      "\n",
      "375/375 [==============================] - 60s 157ms/step - loss: 0.2629 - acc: 0.9193 - val_loss: 0.0621 - val_acc: 0.9822\n",
      "Epoch 2/10\n",
      "375/375 [==============================] - 58s 156ms/step - loss: 0.0884 - acc: 0.9741 - val_loss: 0.0500 - val_acc: 0.9865\n",
      "Epoch 3/10\n",
      "375/375 [==============================] - 58s 156ms/step - loss: 0.0631 - acc: 0.9809 - val_loss: 0.0429 - val_acc: 0.9873\n",
      "Epoch 4/10\n",
      "375/375 [==============================] - 59s 157ms/step - loss: 0.0525 - acc: 0.9835 - val_loss: 0.0395 - val_acc: 0.9889\n",
      "Epoch 5/10\n",
      "375/375 [==============================] - 60s 160ms/step - loss: 0.0461 - acc: 0.9862 - val_loss: 0.0398 - val_acc: 0.9884\n",
      "Epoch 6/10\n",
      "375/375 [==============================] - 59s 158ms/step - loss: 0.0393 - acc: 0.9878 - val_loss: 0.0411 - val_acc: 0.9893\n",
      "Epoch 7/10\n",
      "375/375 [==============================] - 60s 160ms/step - loss: 0.0361 - acc: 0.9892 - val_loss: 0.0352 - val_acc: 0.9897\n",
      "Epoch 8/10\n",
      "375/375 [==============================] - 58s 155ms/step - loss: 0.0328 - acc: 0.9899 - val_loss: 0.0411 - val_acc: 0.9895\n",
      "Epoch 9/10\n",
      "375/375 [==============================] - 58s 154ms/step - loss: 0.0304 - acc: 0.9907 - val_loss: 0.0373 - val_acc: 0.9901\n",
      "Epoch 10/10\n",
      "375/375 [==============================] - 58s 156ms/step - loss: 0.0291 - acc: 0.9911 - val_loss: 0.0374 - val_acc: 0.9909\n",
      "313/313 [==============================] - 4s 12ms/step - loss: 0.0280 - acc: 0.9919\n",
      "\n",
      "Test loss: 0.027954431250691414\n",
      "Test accuracy: 0.9919000267982483\n"
     ]
    },
    {
     "ename": "KeyError",
     "evalue": "'accuracy'",
     "output_type": "error",
     "traceback": [
      "\u001b[1;31m---------------------------------------------------------------------------\u001b[0m",
      "\u001b[1;31mKeyError\u001b[0m                                  Traceback (most recent call last)",
      "Cell \u001b[1;32mIn[3], line 46\u001b[0m\n\u001b[0;32m     43\u001b[0m     plt\u001b[38;5;241m.\u001b[39mshow()\n\u001b[0;32m     45\u001b[0m \u001b[38;5;28;01mif\u001b[39;00m \u001b[38;5;18m__name__\u001b[39m \u001b[38;5;241m==\u001b[39m \u001b[38;5;124m'\u001b[39m\u001b[38;5;124m__main__\u001b[39m\u001b[38;5;124m'\u001b[39m:\n\u001b[1;32m---> 46\u001b[0m     main()\n",
      "Cell \u001b[1;32mIn[3], line 30\u001b[0m, in \u001b[0;36mmain\u001b[1;34m()\u001b[0m\n\u001b[0;32m     27\u001b[0m history \u001b[38;5;241m=\u001b[39m history\u001b[38;5;241m.\u001b[39mhistory\n\u001b[0;32m     29\u001b[0m \u001b[38;5;250m\u001b[39m\u001b[38;5;124;03m\"\"\"정확도 변화 추이  그래프\"\"\"\u001b[39;00m\n\u001b[1;32m---> 30\u001b[0m plt\u001b[38;5;241m.\u001b[39mplot(history[\u001b[38;5;124m'\u001b[39m\u001b[38;5;124maccuracy\u001b[39m\u001b[38;5;124m'\u001b[39m])\n\u001b[0;32m     31\u001b[0m plt\u001b[38;5;241m.\u001b[39mplot(history[\u001b[38;5;124m'\u001b[39m\u001b[38;5;124mval_accuracy\u001b[39m\u001b[38;5;124m'\u001b[39m])\n\u001b[0;32m     32\u001b[0m plt\u001b[38;5;241m.\u001b[39mylabel(\u001b[38;5;124m'\u001b[39m\u001b[38;5;124mAccuracy\u001b[39m\u001b[38;5;124m'\u001b[39m)\n",
      "\u001b[1;31mKeyError\u001b[0m: 'accuracy'"
     ]
    }
   ],
   "source": [
    "import matplotlib.pyplot as plt\n",
    "def main():\n",
    "    number_of_class = 10\n",
    "    Nout = number_of_class\n",
    "\n",
    "    batch_size = 128\n",
    "    epochs = 10\n",
    "\n",
    "    (X_train, Y_train), (X_test, Y_test) = Data_func()\n",
    "    model = CNN(28, #width\n",
    "                28, #height\n",
    "                1, #color\n",
    "                Nout\n",
    "               )\n",
    "    history = model.fit(\n",
    "                    X_train, Y_train,\n",
    "                    batch_size=batch_size,\n",
    "                    epochs =epochs,\n",
    "                    validation_split=0.2\n",
    "                )\n",
    "\n",
    "    score = model.evaluate(X_test, Y_test)\n",
    "    print()\n",
    "    print('Test loss:', score[0])\n",
    "    print('Test accuracy:', score[1])\n",
    "\n",
    "    history = history.history\n",
    "\n",
    "    \"\"\"정확도 변화 추이  그래프\"\"\"\n",
    "    plt.plot(history['accuracy'])\n",
    "    plt.plot(history['val_accuracy'])\n",
    "    plt.ylabel('Accuracy')\n",
    "    plt.xlabel('Epoch')\n",
    "    plt.legend(['Training', 'Verification'], loc=0)\n",
    "    plt.show()\n",
    "\n",
    "    \"\"\"Cost/Loss  변화 추이 그래프\"\"\"\n",
    "    plt.plot(history['loss'])\n",
    "    plt.plot(history['val_loss'])\n",
    "    plt.ylabel('Loss')\n",
    "    plt.xlabel('Epoch')\n",
    "    plt.legend(['Training', 'Verification'], loc=0)\n",
    "    plt.show()\n",
    "\n",
    "if __name__ == '__main__':\n",
    "    main()\n"
   ]
  },
  {
   "cell_type": "code",
   "execution_count": null,
   "id": "a6498bab",
   "metadata": {},
   "outputs": [],
   "source": []
  },
  {
   "cell_type": "code",
   "execution_count": null,
   "id": "e97270c2",
   "metadata": {},
   "outputs": [],
   "source": []
  }
 ],
 "metadata": {
  "kernelspec": {
   "display_name": "Python 3 (ipykernel)",
   "language": "python",
   "name": "python3"
  },
  "language_info": {
   "codemirror_mode": {
    "name": "ipython",
    "version": 3
   },
   "file_extension": ".py",
   "mimetype": "text/x-python",
   "name": "python",
   "nbconvert_exporter": "python",
   "pygments_lexer": "ipython3",
   "version": "3.11.5"
  }
 },
 "nbformat": 4,
 "nbformat_minor": 5
}
